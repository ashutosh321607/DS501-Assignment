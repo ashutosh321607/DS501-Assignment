{
 "cells": [
  {
   "cell_type": "markdown",
   "metadata": {},
   "source": [
    "# Part 1 : Index Construction"
   ]
  },
  {
   "cell_type": "markdown",
   "metadata": {},
   "source": [
    "## Data Crawling"
   ]
  },
  {
   "cell_type": "code",
   "execution_count": null,
   "metadata": {},
   "outputs": [
    {
     "name": "stdout",
     "output_type": "stream",
     "text": [
      "https://www.britannica.com/science/computer-science\n",
      "https://www.edx.org/course/subject/computer-science\n",
      "https://www.khanacademy.org/computing/computer-science\n",
      "https://www.internationalstudent.com/study-computer-science/what-is-computer-science/\n",
      "https://www.coursera.org/browse/computer-science\n",
      "https://www.topuniversities.com/courses/computer-science-information-systems/guide\n",
      "https://www.youtube.com/watch/Tzl0ELY_TiM\n",
      "https://www.youtube.com/watch?v=nDDRliaoswg\n",
      "https://www.timeshighereducation.com/student/what-to-study/computer-science\n",
      "https://www.timeshighereducation.com/student/subjects/what-can-you-do-computer-science-degree\n",
      "https://arxiv.org/archive/cs\n",
      "https://www.computerscience.org/\n",
      "https://www.seas.harvard.edu/computer-science\n",
      "https://engineering.buffalo.edu/computer-science-engineering.html\n",
      "https://engineering.virginia.edu/departments/computer-science\n",
      "https://www.codecademy.com/learn/paths/computer-science\n",
      "https://github.com/ossu/computer-science\n",
      "https://www.usnews.com/best-graduate-schools/top-science-schools/computer-science-rankings\n"
     ]
    }
   ],
   "source": [
    "from googlesearch import search \n",
    "import tldextract  \n",
    "import requests \n",
    "from bs4 import BeautifulSoup \n",
    "import csv   \n",
    "from time import sleep \n",
    "\n",
    "# to search \n",
    "queries = [\"Computer Science\", \"IITs in India\", \"Cities of Chattisgarh\"]\n",
    "\n",
    "#Loop for each query\n",
    "for i in range(len(queries)):\n",
    "    query = queries[i]\n",
    "    # Loop for each search result\n",
    "    count_files = 20\n",
    "    for url in search(query,num=50, start= 1, stop=None, pause=2): \n",
    "        print(url)\n",
    "        respons = requests.get(url) #Response for the current URL\n",
    "        soup = BeautifulSoup(respons.content, 'html5lib')\n",
    "        paras=soup.find_all('p')  #Finding all the paragraph within the response\n",
    "        para = \"\" #Initializing a empty paragraph\n",
    "        \n",
    "        count = 2 #To insure that file must contains 2 paragraph\n",
    "        flag = 0\n",
    "        \n",
    "        for p in paras:   # Loop though each paragraph in response and append the contnet of that paragraph to  \"para\" so that we can save it as a continue paragraph\n",
    "            if p!=\"\":\n",
    "                para += p.get_text()\n",
    "                count-=1\n",
    "            if (count==0):\n",
    "                flag=1\n",
    "                break\n",
    "                \n",
    "        if(flag):  #Perfom writing to file onlw when there is something in para\n",
    "            ext_url = tldextract.extract(url)  #parsing the URL \n",
    "            domin_name = ext_url.domain   #Get the domain name from the parsed URL so that we can use it as a fine name\n",
    "\n",
    "            with open(f'./d{21-count_files}_q{i+1}.txt', mode='wt', encoding='utf-8') as file:  #Wtite \"para\" to a txt file whose filename is a domain name of current URL\n",
    "                file.write(para)\n",
    "            count_files-=1\n",
    "        sleep(1)\n",
    "        \n",
    "        if count_files==0:\n",
    "            break"
   ]
  },
  {
   "cell_type": "code",
   "execution_count": null,
   "metadata": {},
   "outputs": [],
   "source": []
  }
 ],
 "metadata": {
  "kernelspec": {
   "display_name": "Python 3",
   "language": "python",
   "name": "python3"
  },
  "language_info": {
   "codemirror_mode": {
    "name": "ipython",
    "version": 3
   },
   "file_extension": ".py",
   "mimetype": "text/x-python",
   "name": "python",
   "nbconvert_exporter": "python",
   "pygments_lexer": "ipython3",
   "version": "3.8.2"
  }
 },
 "nbformat": 4,
 "nbformat_minor": 4
}
